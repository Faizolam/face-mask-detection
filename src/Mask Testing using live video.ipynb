{
 "cells": [
  {
   "cell_type": "code",
   "execution_count": 1,
   "id": "8a4b215f",
   "metadata": {},
   "outputs": [],
   "source": [
    "# import the necessary packages\n",
    "from tensorflow.keras.applications.mobilenet_v2 import preprocess_input\n",
    "from tensorflow.keras.preprocessing.image import img_to_array\n",
    "from tensorflow.keras.models import load_model\n",
    "import numpy as np\n",
    "import cv2\n",
    "import os\n",
    "from imutils.video import VideoStream\n",
    "import imutils"
   ]
  },
  {
   "cell_type": "code",
   "execution_count": 2,
   "id": "f8d02db2",
   "metadata": {
    "code_folding": []
   },
   "outputs": [],
   "source": [
    "def detect_and_predict_mask(frame,faceNet,maskNet):\n",
    "    #grab the dimensions of the frame and then construct a blob\n",
    "    (h,w)=frame.shape[:2]\n",
    "    blob=cv2.dnn.blobFromImage(frame,1.0,(300,300),(104.0,177.0,123.0))\n",
    "    \n",
    "    faceNet.setInput(blob)\n",
    "    detections=faceNet.forward()\n",
    "    \n",
    "    \n",
    "     #initialize our list of faces, their corresponding locations and list of predictions\n",
    "    \n",
    "    faces=[]\n",
    "    locs=[]\n",
    "    preds=[]\n",
    "    \n",
    "    # loop over the detections\n",
    "    for i in range(0,detections.shape[2]):\n",
    "        # extract the confidence (i.e., probability) associated with\n",
    "        # the detection\n",
    "        confidence=detections[0,0,i,2]\n",
    "    \n",
    "    \n",
    "        if confidence>0.5:\n",
    "        #we need the X,Y coordinates of the bounding box for the object\n",
    "            box=detections[0,0,i,3:7]*np.array([w,h,w,h])\n",
    "            (startX,startY,endX,endY)=box.astype('int')\n",
    "        \n",
    "            #ensure the bounding boxes fall within the dimensions of the frame\n",
    "            (startX,startY)=(max(0,startX),max(0,startY))\n",
    "            (endX,endY)=(min(w-1,endX), min(h-1,endY))\n",
    "        \n",
    "            #extract the face ROI, convert it from BGR to RGB channel, \n",
    "            #resize it to 224,224 and preprocess it\n",
    "            face=frame[startY:endY, startX:endX]\n",
    "            face=cv2.cvtColor(face,cv2.COLOR_BGR2RGB)\n",
    "            face=cv2.resize(face,(224,224))\n",
    "            face=img_to_array(face)\n",
    "            face=preprocess_input(face)\n",
    "             \n",
    "            \n",
    "            # add the face and bounding boxes to their respective\n",
    "            # lists    \n",
    "            faces.append(face)\n",
    "            locs.append((startX,startY,endX,endY))\n",
    "        \n",
    "        #only make a predictions if atleast one face was detected\n",
    "        if len(faces)>0:\n",
    "            faces=np.array(faces,dtype='float32')\n",
    "            preds=maskNet.predict(faces,batch_size=12)\n",
    "        # return a 2-tuple of the face locations and their corresponding\n",
    "        # locations\n",
    "        return (locs,preds)"
   ]
  },
  {
   "cell_type": "code",
   "execution_count": 3,
   "id": "181d07e8",
   "metadata": {},
   "outputs": [],
   "source": [
    "# load our serialized face detector model from disk\n",
    "prototxtPath=os.path.sep.join([r'D:\\Face mask detector\\dataset\\face_detector','deploy.prototxt'])\n",
    "weightsPath=os.path.sep.join([r'D:\\Face mask detector\\dataset\\face_detector','res10_300x300_ssd_iter_140000.caffemodel'])\n"
   ]
  },
  {
   "cell_type": "code",
   "execution_count": 4,
   "id": "195e8539",
   "metadata": {},
   "outputs": [],
   "source": [
    "faceNet=cv2.dnn.readNet(prototxtPath,weightsPath)"
   ]
  },
  {
   "cell_type": "code",
   "execution_count": 5,
   "id": "1fbffdda",
   "metadata": {},
   "outputs": [],
   "source": [
    "# load the face mask detector model from disk\n",
    "maskNet=load_model(r'D:\\Face mask detector\\dataset\\face_mobilenet_v2.model')"
   ]
  },
  {
   "cell_type": "code",
   "execution_count": null,
   "id": "81975621",
   "metadata": {},
   "outputs": [],
   "source": [
    "vs=VideoStream(src=0).start()\n",
    "\n",
    "while True:\n",
    "    #grab the frame from the threaded video stream and resize it\n",
    "    #to have a maximum width of 400 pixels\n",
    "    frame=vs.read()\n",
    "    frame=imutils.resize(frame,width=400)\n",
    "    \n",
    "    #detect faces in the frame and preict if they are waring masks or not\n",
    "    (locs,preds)=detect_and_predict_mask(frame,faceNet,maskNet)\n",
    "    \n",
    "    #loop over the detected face locations and their corrosponding loactions\n",
    "    \n",
    "    for (box,pred) in zip(locs,preds):\n",
    "        (startX,startY,endX,endY)=box\n",
    "        (mask,withoutMask)=pred\n",
    "        \n",
    "        #determine the class label and color we will use to draw the bounding box and text\n",
    "        label='Mask' if mask>withoutMask else 'No Mask'\n",
    "        color=(0,255,0) if label=='Mask' else (0,0,255)\n",
    "        \n",
    "        #display the label and bounding boxes\n",
    "        cv2.putText(frame,label,(startX,startY-10),cv2.FONT_HERSHEY_SIMPLEX,0.45,color,2)\n",
    "        \n",
    "        cv2.rectangle(frame,(startX,startY),(endX,endY),color,2)\n",
    "        \n",
    "    #show the output frame\n",
    "    cv2.imshow(\"Frame\",frame)\n",
    "    key=cv2.waitKey(1) & 0xFF\n",
    "    \n",
    "    # if the `q` key was pressed, break from the loop\n",
    "    if key==ord('q'):\n",
    "        break\n",
    "        \n",
    "# do a bit of cleanup        \n",
    "cv2.destroyAllWindows()\n",
    "vs.stop()\n",
    "        \n",
    "        \n",
    "    "
   ]
  },
  {
   "cell_type": "code",
   "execution_count": null,
   "id": "ae51b5a9",
   "metadata": {},
   "outputs": [],
   "source": []
  }
 ],
 "metadata": {
  "kernelspec": {
   "display_name": "Python 3",
   "language": "python",
   "name": "python3"
  },
  "language_info": {
   "codemirror_mode": {
    "name": "ipython",
    "version": 3
   },
   "file_extension": ".py",
   "mimetype": "text/x-python",
   "name": "python",
   "nbconvert_exporter": "python",
   "pygments_lexer": "ipython3",
   "version": "3.8.10"
  },
  "toc": {
   "base_numbering": 1,
   "nav_menu": {},
   "number_sections": true,
   "sideBar": true,
   "skip_h1_title": false,
   "title_cell": "Table of Contents",
   "title_sidebar": "Contents",
   "toc_cell": false,
   "toc_position": {},
   "toc_section_display": true,
   "toc_window_display": false
  }
 },
 "nbformat": 4,
 "nbformat_minor": 5
}
